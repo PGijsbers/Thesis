{
 "cells": [
  {
   "cell_type": "markdown",
   "id": "21043a22",
   "metadata": {},
   "source": [
    "# Asynchronous Evolution in GAMA compared to TPOT\n",
    "This notebook visualizes a small scale benchmark comparing GAMA with asynchronous evolution to TPOT.\n",
    "Overall, the search spaces are very similar with one big exception which is that TPOT allows using learners as a stacking operator by appending their predictions to the data.\n",
    "Ensembling is disabled for GAMA.\n",
    "Despite the similarties, because of the differences this comparison is merely a starting point for futher research.\n"
   ]
  },
  {
   "cell_type": "code",
   "execution_count": 1,
   "id": "56cd0e4d",
   "metadata": {},
   "outputs": [],
   "source": [
    "import pandas as pd\n",
    "import matplotlib.pyplot as plt\n",
    "import seaborn"
   ]
  },
  {
   "cell_type": "code",
   "execution_count": 3,
   "id": "a867fd2b",
   "metadata": {},
   "outputs": [],
   "source": [
    "gama = pd.read_csv(r\"data/gama_results2.csv\")\n",
    "others = pd.read_csv(r\"data/classification_cleaned.csv\")\n",
    "others = others[others.constraint == \"4h8c_gp3\"]\n",
    "tpot = others[(others.framework == \"TPOT\") & (others.task.isin(gama.task.unique()))]\n",
    "\n",
    "best_per_fold = others.groupby([\"task\", \"fold\"], as_index=False).agg({\"result\": max})\n",
    "best_per_fold[\"framework\"] = \"Best\"\n",
    "best_per_fold = best_per_fold[best_per_fold.task.isin(gama.task.unique())]\n",
    "\n",
    "results = pd.concat([gama, tpot, best_per_fold])\n",
    "results = results[~results.task.isin([\"Diabetes130US\", \"covertype\", \"jannis\"])]"
   ]
  },
  {
   "cell_type": "code",
   "execution_count": 4,
   "id": "c089edea",
   "metadata": {},
   "outputs": [],
   "source": [
    "sort_dict = {\n",
    "    \"Higgs\": 0,\n",
    "    \"porto-seguro\": 1,\n",
    "    \"covertype\": 2,\n",
    "    \"airlines\": 3,\n",
    "    \"albert\": 4, # oops, did 4, not 5!\n",
    "    \"numerai28.6\": 5,\n",
    "    \"jannis\": 6,\n",
    "    \"APSFailure\": 7,\n",
    "    \"kick\": 8\n",
    "}"
   ]
  },
  {
   "cell_type": "code",
   "execution_count": 14,
   "id": "1c83e381",
   "metadata": {},
   "outputs": [
    {
     "data": {
      "text/plain": [
       "<matplotlib.legend.Legend at 0x2217e467100>"
      ]
     },
     "execution_count": 14,
     "metadata": {},
     "output_type": "execute_result"
    },
    {
     "data": {
      "image/png": "[encoded data removed]",
      "text/plain": [
       "<Figure size 576x288 with 1 Axes>"
      ]
     },
     "metadata": {
      "needs_background": "light"
     },
     "output_type": "display_data"
    }
   ],
   "source": [
    "fig, ax = plt.subplots(1, 1, figsize=(8, 4))\n",
    "to_display = [(\"TPOT\", \"#a6cee3\", 0), (\"GAMA\", \"#1f78b4\", 0), (\"Best\", \"#b2df8a\", -1)]\n",
    "for framework, color, zorder in to_display:\n",
    "    seaborn.stripplot(\n",
    "        data=results[results.framework == framework].sort_values(\"task\", key=lambda t: t.map(sort_dict)),\n",
    "        color=color,\n",
    "        zorder=zorder,\n",
    "        x=\"result\", y=\"task\", ax=ax,\n",
    "        label=framework\n",
    "    )   \n",
    "#seaborn.stripplot(data=results, x=\"result\", y=\"task\", hue=\"framework\", palette=[\"#a6cee3\", \"#1f78b4\", \"#b2df8a\"], ax=ax)\n",
    "ax.set_xlabel(\"AUC\", fontsize=14)\n",
    "ax.set_ylabel(\"\")\n",
    "ax.tick_params(labelsize=14)\n",
    "\n",
    "from matplotlib.lines import Line2D\n",
    "legend_elements = [\n",
    "    Line2D([0], [0], marker='o', color='w', markerfacecolor=c, label=f, markersize=10)\n",
    "    for f, c, z in to_display\n",
    "]\n",
    "ax.legend(handles=legend_elements, fontsize=14)"
   ]
  },
  {
   "cell_type": "code",
   "execution_count": 15,
   "id": "3f9a0bfe",
   "metadata": {},
   "outputs": [],
   "source": [
    "from matplotlib.backends.backend_pdf import PdfPages\n",
    "\n",
    "with PdfPages(\"tpot-gama.pdf\") as f:\n",
    "    f.savefig(fig, bbox_inches=\"tight\")"
   ]
  },
  {
   "cell_type": "code",
   "execution_count": null,
   "id": "48a0bb8b",
   "metadata": {},
   "outputs": [],
   "source": []
  }
 ],
 "metadata": {
  "kernelspec": {
   "display_name": "Python 3 (ipykernel)",
   "language": "python",
   "name": "python3"
  },
  "language_info": {
   "codemirror_mode": {
    "name": "ipython",
    "version": 3
   },
   "file_extension": ".py",
   "mimetype": "text/x-python",
   "name": "python",
   "nbconvert_exporter": "python",
   "pygments_lexer": "ipython3",
   "version": "3.8.3"
  }
 },
 "nbformat": 4,
 "nbformat_minor": 5
}
