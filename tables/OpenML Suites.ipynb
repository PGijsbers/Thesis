{
 "cells": [
  {
   "cell_type": "code",
   "execution_count": 1,
   "id": "226dfb7d",
   "metadata": {},
   "outputs": [],
   "source": [
    "import openml\n",
    "import pandas as pd"
   ]
  },
  {
   "cell_type": "code",
   "execution_count": 4,
   "id": "7ed7d1e5",
   "metadata": {},
   "outputs": [],
   "source": [
    "def to_latex(suite_id, maximum_dataset_name_length=None, first_caption=None, second_caption=\"auto\", label=None, filename=None):\n",
    "    if second_caption == \"auto\":\n",
    "        if first_caption.endswith(\".\"):\n",
    "            second_caption = first_caption[:-1] + \" (continued).\"\n",
    "        else:\n",
    "            second_caption = first_caption + \" (continued)\"\n",
    "    \n",
    "    suite = openml.study.get_suite(suite_id)\n",
    "    tasks = [openml.tasks.get_task(tid, download_data=False, download_qualities=False) for tid in suite.tasks]\n",
    "\n",
    "    metadata = openml.datasets.list_datasets(data_id=[t.dataset_id for t in tasks], output_format=\"dataframe\")\n",
    "    task_data = pd.DataFrame([[t.id, t.dataset_id] for t in tasks], columns=[\"tid\", \"did\"]).set_index(\"did\")\n",
    "    metadata = metadata.join(task_data, on=\"did\")\n",
    "\n",
    "    # Prepare fields for presentation \n",
    "    metadata = metadata.rename(columns=dict(\n",
    "        NumberOfInstances=\"instances\",\n",
    "        NumberOfFeatures=\"features\",\n",
    "        NumberOfClasses=\"classes\",\n",
    "        did=\"Dataset ID\",\n",
    "        tid=\"Task ID\",\n",
    "    ))\n",
    "    metadata[[\"instances\", \"features\", \"classes\"]] = metadata[[\"instances\", \"features\", \"classes\"]].astype(int)\n",
    "\n",
    "    columns_to_show = [\"Task ID\", \"name\", \"instances\", \"features\"]\n",
    "    if \"MinorityClassSize\" in metadata:\n",
    "        metadata[\"class ratio\"] = metadata[\"MinorityClassSize\"] / metadata[\"MajorityClassSize\"]\n",
    "        columns_to_show.extend([\"classes\", \"class ratio\"])\n",
    "    metadata = metadata.sort_values(\"name\", key= lambda n: n.str.lower())\n",
    "    \n",
    "    if maximum_dataset_name_length:\n",
    "        metadata[\"name\"] = metadata[\"name\"].apply(\n",
    "            lambda name: name if len(name) < maximum_dataset_name_length else name[:maximum_dataset_name_length - 3] + \"...\"\n",
    "        )\n",
    "\n",
    "    #metadata.style.to_latex(\"my-table.tex\")\n",
    "    styler = metadata[columns_to_show].style\n",
    "    styler = styler.format({\"class ratio\": '{:,.2f}'.format})\n",
    "    styler = styler.hide(axis=\"index\")\n",
    "\n",
    "    latex = styler.to_latex()\n",
    "    latex = latex.replace(\"_\", \"\\_\")\n",
    "    latex = latex.replace(\"begin{tabular}\", \"begin{longtable}\")\n",
    "    latex = latex.replace(\"end{tabular}\", \"end{longtable}\")\n",
    "    \n",
    "    if \"class ratio\" in columns_to_show:\n",
    "        latex = latex.replace(r\"class ratio\", r\"class \\newline ratio\")\n",
    "        latex = latex.replace(r\"rlrrrr\", r\"rlrrrp{2em}\")\n",
    "\n",
    "    # Add a repeating header \n",
    "    start, header, *rows, end = latex.splitlines()\n",
    "    for i in reversed(range(0, len(rows), 5)):\n",
    "        rows.insert(i, r\"\\addlinespace\")\n",
    "    \n",
    "    table_header = [\n",
    "        r\"\\toprule\",\n",
    "        header,\n",
    "        r\"\\midrule\",\n",
    "        r\"\\midrule\",\n",
    "    ]\n",
    "    \n",
    "    lines = [\n",
    "        start,\n",
    "        \n",
    "        r\"\\caption{{{}}}\".format(first_caption) if first_caption else \"\",\n",
    "        r\"\\label{{{}}}\".format(label) if label else \"\",\n",
    "        r\"\\\\\" if first_caption or label else \"\",\n",
    "        *table_header,\n",
    "        r\"\\endfirsthead\",\n",
    "        \n",
    "        r\"\\caption*{{{}}}\\\\\".format(second_caption) if second_caption else \"\",\n",
    "        *table_header,\n",
    "        r\"\\endhead\",\n",
    "        \n",
    "        *rows,\n",
    "        r\"\\bottomrule\",\n",
    "        end,\n",
    "\n",
    "    ]\n",
    "    \n",
    "    filename = filename or f\"suite-{suite_id}.tex\"\n",
    "    with open(filename, \"w\") as fh:\n",
    "        fh.write(\"\\n\".join(lines))\n",
    "\n",
    "to_latex(269, maximum_dataset_name_length=25, first_caption=\"Tasks in the AutoML regression suite.\", label=\"tab:269\")\n",
    "to_latex(271, maximum_dataset_name_length=25, first_caption=\"Tasks in the AutoML classification suite.\", label=\"tab:271\")\n",
    "to_latex(99, maximum_dataset_name_length=25, first_caption=\"Tasks OpenML-CC18.\", label=\"tab:cc18\")"
   ]
  },
  {
   "cell_type": "code",
   "execution_count": 112,
   "id": "ac9170b8",
   "metadata": {},
   "outputs": [],
   "source": []
  },
  {
   "cell_type": "code",
   "execution_count": 73,
   "id": "b9d516d6",
   "metadata": {},
   "outputs": [
    {
     "name": "stderr",
     "output_type": "stream",
     "text": [
      "UsageError: Line magic function `%\\begin{adjustbox}{center,` not found.\n"
     ]
    }
   ],
   "source": [
    "%\\begin{adjustbox}{center, width=8cm, totalheight=10cm}\n",
    "% \\begin{longtable}{rrlrrrrr}\n",
    "% \\toprule\n",
    "% \\textbf{ Data id } & \\textbf{Task id} & \\textbf{ Name } & \\textbf{ cl } & \\textbf{ p } & \\textbf{ n } & \\textbf{class ratio}\\\\\n",
    "% \\midrule\n",
    "\n",
    "% \\midrule\n",
    "% 3 & 3 & kr-vs-kp & 2 & 37 & 3196 & 0.91\\\\\n",
    "% 6 & 6 & letter & 26 & 17 & 20000 & 0.90\\\\\n",
    "% 11 & 11 & balance-scale & 3 & 5 & 625 & 0.17\\\\\n",
    "% 12 & 12 & mfeat-factors & 10 & 217 & 2000 & 1.00\\\\\n",
    "% 14 & 14 & mfeat-fourier & 10 & 77 & 2000 & 1.00\\\\\n",
    "% \\addlinespace"
   ]
  },
  {
   "cell_type": "code",
   "execution_count": null,
   "id": "7b7eeab4",
   "metadata": {},
   "outputs": [],
   "source": []
  }
 ],
 "metadata": {
  "kernelspec": {
   "display_name": "Python 3 (ipykernel)",
   "language": "python",
   "name": "python3"
  },
  "language_info": {
   "codemirror_mode": {
    "name": "ipython",
    "version": 3
   },
   "file_extension": ".py",
   "mimetype": "text/x-python",
   "name": "python",
   "nbconvert_exporter": "python",
   "pygments_lexer": "ipython3",
   "version": "3.8.3"
  }
 },
 "nbformat": 4,
 "nbformat_minor": 5
}
